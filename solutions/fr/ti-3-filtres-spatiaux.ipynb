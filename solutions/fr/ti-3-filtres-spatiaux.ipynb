{
 "cells": [
  {
   "cell_type": "markdown",
   "id": "cf87e11d-0724-4dc6-85f7-dc9592cbe320",
   "metadata": {
    "tags": []
   },
   "source": [
    "<div style=\"background-color:rgba(3, 169, 243, 0.4); padding:10pt\" >    \n",
    "\n",
    "\n",
    "# **Traitement d'images [3EIB2]**\n",
    "&mdash; **_<span style=\"color:gray\">Alain Lebret_ (_alain.lebret@ensicaen.fr_)</span>** &mdash;\n",
    "\n",
    "## 3. Filtres spatiaux\n",
    "\n",
    "</div>"
   ]
  },
  {
   "cell_type": "markdown",
   "id": "ffdd54d6-159d-4078-bda4-aa3877d610ee",
   "metadata": {},
   "source": [
    "### 3.1. Introduction\n",
    "\n",
    "Les images numériques sont sujettes à divers types de bruit. Le bruit\n",
    "est la conséquence d'erreurs dans le procédé d'acquisition des images et\n",
    "résulte en des valeurs de pixels qui ne reflètent pas les intensités\n",
    "réelles. L'insertion de bruit dans une image dépend principalement de la\n",
    "manière dont l'image a été produite. Par exemple :\n",
    "\n",
    "- Si l'image est numérisée à partir d'une photographie, le grain de la\n",
    " photographie peut être une source de bruit. Le bruit peut aussi\n",
    " résulter de dommages causés physiquement à la photographie papier, ou\n",
    " encore être introduit par l'appareil de numérisation lui-même.\n",
    "- Si l'image est acquise directement sous un format numérique, il se\n",
    " peut que le mécanisme de récupération des données, comme le capteur\n",
    " CCD, introduise du bruit.\n",
    "-  La transmission d'une image sur un canal de transmission peut aussi\n",
    "  introduire du bruit.\n",
    "\n",
    "Dans le domaine spatial, il est possible d'utiliser des filtrages\n",
    "linéaires afin de supprimer certains types de bruit. Des filtres tels\n",
    "que les filtres moyenneurs ou les filtres gaussiens sont appropriés. Par\n",
    "exemple, un filtre moyenneur sera utile pour supprimer le bruit dû aux\n",
    "grains d'une photographie. Comme chaque pixel dépend de la moyenne des\n",
    "pixels de son voisinage, les variations locales causées par le grainage\n",
    "sont ainsi réduites. Le filtre non linéaire médian est quant à lui \n",
    "beaucoup moins sensible aux valeurs extrêmes (appelées valeurs aberrantes)\n",
    "que ne peut l'être un filtre moyenneur. Le filtrage médian est donc \n",
    "plus en mesure de supprimer ces valeurs aberrantes sans réduire la \n",
    "netteté de l'image.\n",
    "\n",
    "Nous verrons dans les séances à venir que le passage dans le domaine \n",
    "fréquentiel permet lui aussi de débruiter une image en utilisant des \n",
    "filtres passe-bas."
   ]
  },
  {
   "cell_type": "markdown",
   "id": "5a878cd3-5b55-4a84-a155-eee40921cecc",
   "metadata": {},
   "source": [
    "### 3.2. Chargement des dépendances"
   ]
  },
  {
   "cell_type": "code",
   "execution_count": 1,
   "id": "c44210c6-da22-4a02-bde8-aa6a9f3a3ed0",
   "metadata": {},
   "outputs": [],
   "source": [
    "#\n",
    "# Loads required libraries \n",
    "#\n",
    "import math\n",
    "import numpy as np\n",
    "import skimage              # scikit-image\n",
    "from skimage import data    # some images to use\n",
    "from skimage import io      # open, write, etc. image files\n",
    "from skimage import color   # conversion between color spaces \n",
    "from skimage import filters # threshold_mean \n",
    "from skimage import util    # random_noise \n",
    "from skimage.morphology import disk # to use with \"median\" filter\n",
    "from matplotlib import pyplot as plt\n",
    "\n",
    "#\n",
    "# Uncomments the lines below if using Google Colab\n",
    "#\n",
    "#from google.colab import drive"
   ]
  },
  {
   "cell_type": "code",
   "execution_count": 10,
   "id": "03f4966c-6c60-41f1-a6c9-52ad354e3ff2",
   "metadata": {},
   "outputs": [],
   "source": [
    "root_path = './ressources'\n",
    "smaller = root_path + '/256x256'\n",
    "medium = root_path + '/512x512'\n",
    "various = root_path + '/divers'"
   ]
  },
  {
   "cell_type": "markdown",
   "id": "ba247b18-2588-4053-9352-0355913d98ef",
   "metadata": {},
   "source": [
    "### 3.3. Génération de bruit\n",
    "\n",
    "La fonction `random_noise()` du module \"util\" de la bibliothèque _scikit-image_ permet d'ajouter différents types de bruit à une image."
   ]
  },
  {
   "cell_type": "markdown",
   "id": "3c374638-169c-4b45-95a5-94082e1d451c",
   "metadata": {},
   "source": [
    "<div style=\"background-color:rgba(255, 183, 77, 0.8); padding:5pt\" >    \n",
    "\n",
    "---\n",
    "\n",
    "Quel type de bruit est présent dans les images \"girlface_noisy1.png\", \"girlface_noisy2.png\" et \"girlface_noisy3.png\" ?\n",
    "\n",
    "---\n",
    "    \n",
    "</div>"
   ]
  },
  {
   "cell_type": "code",
   "execution_count": 7,
   "id": "802f7cd5-f00e-4579-b1a9-b9f10f62a818",
   "metadata": {},
   "outputs": [],
   "source": [
    "#\n",
    "# Mettez votre réponse ici\n",
    "#\n",
    "\n"
   ]
  },
  {
   "cell_type": "markdown",
   "id": "59a5a83a-ae98-4cda-be21-160fe8a8e106",
   "metadata": {},
   "source": [
    "### 3.4. Débruitage d'une image\n",
    "\n",
    "La fonction `convolve2D()` ci-dessous permet de réaliser la convolution entre une image 2D et un filtre. Par défaut, la convolution est réalisée sur la moitié gauche de l'image afin de comparer le résultat. Bien évidemment, _Scikit-image_ propose plusieurs fonctions optimisées qui remplaceront efficacement `convolve2D()` (voir module \"filters\")."
   ]
  },
  {
   "cell_type": "code",
   "execution_count": 12,
   "id": "f460c9e3-4b70-41ba-a959-5ab8f8323912",
   "metadata": {},
   "outputs": [],
   "source": [
    "# 2D Convolution\n",
    "            \n",
    "def convolve2D(input_image, filter_kernel, half=True):\n",
    "    \"\"\" Left half part or whole image convolution using the given kernel \"\"\"\n",
    "    s = input_image.shape\n",
    "    py = (filter_kernel.shape[0]-1)/2\n",
    "    px = (filter_kernel.shape[1]-1)/2\n",
    "    filtered_image = input_image.copy()\n",
    "    if half:\n",
    "        imax = s[1]/2\n",
    "    else:\n",
    "        imax = s[1]-px\n",
    "    for i in range(int(px), int(imax)):\n",
    "        for j in range(int(py), int(s[0]-py)):\n",
    "            pixel_sum = 0.0\n",
    "            for k in range(-int(px),int(px)+1):\n",
    "                for l in range(-int(py),int(py)+1):\n",
    "                    pixel_sum += input_image[int(j+l)][int(i+k)]*filter_kernel[int(l+py)][int(k+px)]\n",
    "            filtered_image[j][i] = pixel_sum\n",
    "    return filtered_image"
   ]
  },
  {
   "cell_type": "markdown",
   "id": "74881d58-9e68-425e-9c70-8e8ce70ec0cc",
   "metadata": {},
   "source": [
    "#### 3.4.1. Débruitage avec filtre moyenneur"
   ]
  },
  {
   "cell_type": "markdown",
   "id": "9c2d00c6-2bb7-43a7-92b8-88e623f32e29",
   "metadata": {},
   "source": [
    "<div style=\"background-color:rgba(255, 183, 77, 0.8); padding:5pt\" >    \n",
    "\n",
    "---\n",
    "\n",
    "#### **Manipulation n° 3.1**\n",
    "\n",
    "En utilisant la fonction `convolve2D()` précédente, réalisez une réduction du bruit dans les images \"girlface_noisy1.png\", \"girlface_noisy2.png\" et \"girlface_noisy3.png\" et affichez les résultats pour les filtres suivants :\n",
    "\n",
    "1. Filtre moyenneur 3x3 (poids 1/9).\n",
    "2. Filtre moyenneur 5x5 (poids 1/25).\n",
    "3. Filtre moyenneur 15x15 (poids 1/225).\n",
    "\n",
    "---\n",
    "    \n",
    "</div>"
   ]
  },
  {
   "cell_type": "code",
   "execution_count": 94,
   "id": "b0875537-c415-4226-ac11-290fd6715062",
   "metadata": {},
   "outputs": [],
   "source": [
    "#\n",
    "# Mettez votre code ici\n",
    "\n"
   ]
  },
  {
   "cell_type": "markdown",
   "id": "f96c7a3c-481e-4162-907d-bd27c8b8a935",
   "metadata": {},
   "source": [
    "#### 3.4.2. Débruitage avec filtre gaussien\n",
    "La fonction `gaussianFilter()` ci-dessous réalise un filtrage gaussien de largeur donnée (le module \"filters\" de la bibliothèque _Scikit-image_ dispose de son propre filtre gaussian : fonction `gaussian()`). "
   ]
  },
  {
   "cell_type": "code",
   "execution_count": 22,
   "id": "da94ba87-e930-428a-b4dd-6fd191ff461d",
   "metadata": {},
   "outputs": [],
   "source": [
    "def gaussianFilter(width):\n",
    "    epsilon = 0.05\n",
    "    sigma = width * 1.0 / math.sqrt(-2 * math.log(epsilon))\n",
    "    h = np.zeros((2*width + 1, 2*width  + 1))\n",
    "    sum = 0\n",
    "    for m in range(-width, width+1):\n",
    "        for n in range(-width, width+1):\n",
    "            h[m+width][n+width] = math.exp(-(n*n + m*m)/(2*sigma*sigma))\n",
    "            sum += h[m+width][n+width]\n",
    "    h = h/sum\n",
    "    return h"
   ]
  },
  {
   "cell_type": "markdown",
   "id": "5289d49c-6bbd-4d61-9336-d99d51a90fbe",
   "metadata": {},
   "source": [
    "<div style=\"background-color:rgba(255, 183, 77, 0.8); padding:5pt\" >    \n",
    "\n",
    "---\n",
    "\n",
    "#### **Manipulation n° 3.2**\n",
    "\n",
    "En utilisant les fonctions `convolve2D()` et `gaussianFilter()`, réalisez une réduction du bruit dans les images \"girlface_noisy1.png\", \"girlface_noisy2.png\" et \"girlface_noisy3.png\" et affichez les résultats pour des filtres gaussien de largeur 3, 5 et 7.\n",
    "\n",
    "---\n",
    "    \n",
    "</div>"
   ]
  },
  {
   "cell_type": "code",
   "execution_count": 95,
   "id": "41018e70-33af-4cfe-9dbf-47ab7d353046",
   "metadata": {},
   "outputs": [],
   "source": [
    "#\n",
    "# Mettez votre code ici\n",
    "#\n",
    "\n"
   ]
  },
  {
   "cell_type": "markdown",
   "id": "d5283526-a492-4bc2-a194-2c08f322ca11",
   "metadata": {},
   "source": [
    "#### 3.4.3. Débruitage avec filtre médian\n",
    "Cette fois-ci, nous allons utiliser la fonction `median()` du module \"filters\" de la bibliothèque _Scikit-image_ qui réalise directement la convolution. "
   ]
  },
  {
   "cell_type": "markdown",
   "id": "82f81402-dfab-4760-9db2-ec230c23d032",
   "metadata": {},
   "source": [
    "<div style=\"background-color:rgba(255, 183, 77, 0.8); padding:5pt\" >    \n",
    "\n",
    "---\n",
    "\n",
    "#### **Manipulation n° 3.3**\n",
    "\n",
    "1. En utilisant la fonction `median()` et la fonction `disk()` du module \"morphology\" de la bibliothèque _Scikit-image_, réalisez une réduction du bruit dans les images \"girlface_noisy1.png\", \"girlface_noisy2.png\" et \"girlface_noisy3.png\" en utilisant des disques de taille 5, 7 et 9 et affichez les résultats.\n",
    "2. Comparez les différents filtres.\n",
    "\n",
    "---\n",
    "    \n",
    "</div>"
   ]
  },
  {
   "cell_type": "code",
   "execution_count": 96,
   "id": "273f02be-1ffc-4269-8f43-a9f9a8c9b9b1",
   "metadata": {},
   "outputs": [],
   "source": [
    "#\n",
    "# Mettez votre code ici\n",
    "#\n"
   ]
  },
  {
   "cell_type": "markdown",
   "id": "76c311cf-1bea-4597-98fb-8b8aefbe49bc",
   "metadata": {},
   "source": [
    "### 3.5. Extraction et affinage des contours"
   ]
  },
  {
   "cell_type": "markdown",
   "id": "82af5cfe-9666-488b-af8f-d710d84fb043",
   "metadata": {},
   "source": [
    "Le module \"filters\" de la bibliothèque _Scikit_image_ comporte la plupart des fonctions réalisant l'extraction des contours et l'affinage de ces derniers à l'aide de filtres spatiaux.\n",
    "\n",
    "#### 3.5.1. Extraction des contours"
   ]
  },
  {
   "cell_type": "markdown",
   "id": "22b78ed2-e590-41b2-a064-77db11a134fa",
   "metadata": {
    "tags": []
   },
   "source": [
    "<div style=\"background-color:rgba(255, 183, 77, 0.8); padding:5pt\" >    \n",
    "\n",
    "---\n",
    "\n",
    "#### **Manipulation n° 3.4**\n",
    "\n",
    "1. Créez deux images synthétiques en niveaux de gris comportant pour l'une un carré blanc sur fond noir, et pour l'autre un disque blanc sur fond noir. Appliquez sur celles-ci les filtres de _Prewitt_, _Roberts_ et _Sobel_. Comparez les résultats.\n",
    "2. Réitérez avec deux images plus réalistes (personnage et bâtiment).   \n",
    "3. Les filtres rencontrés ici conviennent-ils à toutes les images ?\n",
    "\n",
    "---\n",
    "    \n",
    "</div>"
   ]
  },
  {
   "cell_type": "code",
   "execution_count": 97,
   "id": "93f2f370-11ed-45a8-8816-8e8d07142bc3",
   "metadata": {},
   "outputs": [],
   "source": [
    "#\n",
    "# Mettez votre code ici\n",
    "#\n"
   ]
  },
  {
   "cell_type": "markdown",
   "id": "f27ad5a7-9e12-4fa1-bec1-7af35614b319",
   "metadata": {},
   "source": [
    "#### 3.5.2. Affinage des contours"
   ]
  },
  {
   "cell_type": "markdown",
   "id": "fdca0955-edd0-4f8f-b803-cb2f1239dd9e",
   "metadata": {},
   "source": [
    "<div style=\"background-color:rgba(255, 183, 77, 0.8); padding:5pt\" >    \n",
    "\n",
    "---\n",
    "\n",
    "#### **Manipulation n° 3.5**\n",
    "\n",
    "1. Sur les deux images synthétiques précédentes, appliquez un filtre gaussien de largeur 7 avant de réaliser une extraction des contours avec les filtres de _Laplace_, ainsi que des variants pour _Prewitt_ et _Sobel_ qui permettent l'extraction des contours verticaux et horizontaux (voir https://scikit-image.org/docs/stable/api/skimage.filters.html). Réalisez l'_affinage des contours_ en soustrayant à l'image floutée, l'image des contours. Comparez les résultats.\n",
    "2. Réitérez avec les deux images plus réalistes utilisées précédemment (personnage et bâtiment).   \n",
    "\n",
    "---\n",
    "    \n",
    "</div>"
   ]
  },
  {
   "cell_type": "code",
   "execution_count": 98,
   "id": "7edd2112-ea49-4480-bf8e-ec5cd4b08131",
   "metadata": {},
   "outputs": [],
   "source": [
    "#\n",
    "# Mettez votre code ici\n",
    "#\n"
   ]
  }
 ],
 "metadata": {
  "kernelspec": {
   "display_name": "Python 3 (ipykernel)",
   "language": "python",
   "name": "python3"
  },
  "language_info": {
   "codemirror_mode": {
    "name": "ipython",
    "version": 3
   },
   "file_extension": ".py",
   "mimetype": "text/x-python",
   "name": "python",
   "nbconvert_exporter": "python",
   "pygments_lexer": "ipython3",
   "version": "3.9.7"
  }
 },
 "nbformat": 4,
 "nbformat_minor": 5
}
