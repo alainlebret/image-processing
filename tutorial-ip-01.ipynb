# **Traitement d'images [3EIB2]**
_Alain Lebret_ (_alain.lebret@ensicaen.fr_)

## 1. Premiers pas

- _Introduction à [Google Colab](https://colab.research.google.com/notebooks/welcome.ipynb)_
- _Introduction à [OpenCV](https://opencv.org/)_

